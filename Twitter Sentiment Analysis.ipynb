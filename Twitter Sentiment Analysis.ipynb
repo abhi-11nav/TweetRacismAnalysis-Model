{
 "cells": [
  {
   "cell_type": "code",
   "execution_count": 484,
   "id": "1b19e898",
   "metadata": {},
   "outputs": [],
   "source": [
    "import pandas as pd"
   ]
  },
  {
   "cell_type": "code",
   "execution_count": 485,
   "id": "13d30016",
   "metadata": {},
   "outputs": [],
   "source": [
    "train = pd.read_csv(\"train.csv\")"
   ]
  },
  {
   "cell_type": "code",
   "execution_count": 486,
   "id": "6c3435ba",
   "metadata": {},
   "outputs": [
    {
     "data": {
      "text/html": [
       "<div>\n",
       "<style scoped>\n",
       "    .dataframe tbody tr th:only-of-type {\n",
       "        vertical-align: middle;\n",
       "    }\n",
       "\n",
       "    .dataframe tbody tr th {\n",
       "        vertical-align: top;\n",
       "    }\n",
       "\n",
       "    .dataframe thead th {\n",
       "        text-align: right;\n",
       "    }\n",
       "</style>\n",
       "<table border=\"1\" class=\"dataframe\">\n",
       "  <thead>\n",
       "    <tr style=\"text-align: right;\">\n",
       "      <th></th>\n",
       "      <th>id</th>\n",
       "      <th>label</th>\n",
       "      <th>tweet</th>\n",
       "    </tr>\n",
       "  </thead>\n",
       "  <tbody>\n",
       "    <tr>\n",
       "      <th>0</th>\n",
       "      <td>1</td>\n",
       "      <td>0</td>\n",
       "      <td>@user when a father is dysfunctional and is s...</td>\n",
       "    </tr>\n",
       "    <tr>\n",
       "      <th>1</th>\n",
       "      <td>2</td>\n",
       "      <td>0</td>\n",
       "      <td>@user @user thanks for #lyft credit i can't us...</td>\n",
       "    </tr>\n",
       "    <tr>\n",
       "      <th>2</th>\n",
       "      <td>3</td>\n",
       "      <td>0</td>\n",
       "      <td>bihday your majesty</td>\n",
       "    </tr>\n",
       "    <tr>\n",
       "      <th>3</th>\n",
       "      <td>4</td>\n",
       "      <td>0</td>\n",
       "      <td>#model   i love u take with u all the time in ...</td>\n",
       "    </tr>\n",
       "    <tr>\n",
       "      <th>4</th>\n",
       "      <td>5</td>\n",
       "      <td>0</td>\n",
       "      <td>factsguide: society now    #motivation</td>\n",
       "    </tr>\n",
       "  </tbody>\n",
       "</table>\n",
       "</div>"
      ],
      "text/plain": [
       "   id  label                                              tweet\n",
       "0   1      0   @user when a father is dysfunctional and is s...\n",
       "1   2      0  @user @user thanks for #lyft credit i can't us...\n",
       "2   3      0                                bihday your majesty\n",
       "3   4      0  #model   i love u take with u all the time in ...\n",
       "4   5      0             factsguide: society now    #motivation"
      ]
     },
     "execution_count": 486,
     "metadata": {},
     "output_type": "execute_result"
    }
   ],
   "source": [
    "train.head()"
   ]
  },
  {
   "cell_type": "code",
   "execution_count": 487,
   "id": "a0726ddc",
   "metadata": {},
   "outputs": [
    {
     "data": {
      "text/plain": [
       "(31962, 3)"
      ]
     },
     "execution_count": 487,
     "metadata": {},
     "output_type": "execute_result"
    }
   ],
   "source": [
    "train.shape"
   ]
  },
  {
   "cell_type": "markdown",
   "id": "7098849b",
   "metadata": {},
   "source": [
    "Text Preprocessing"
   ]
  },
  {
   "cell_type": "code",
   "execution_count": 488,
   "id": "f75d0a21",
   "metadata": {},
   "outputs": [],
   "source": [
    "#Drop the \"Id\" column as it does not add value to the dataset\n",
    "\n",
    "train.drop('id',axis=1,inplace=True)"
   ]
  },
  {
   "cell_type": "code",
   "execution_count": 489,
   "id": "6d7aed33",
   "metadata": {},
   "outputs": [
    {
     "data": {
      "text/html": [
       "<div>\n",
       "<style scoped>\n",
       "    .dataframe tbody tr th:only-of-type {\n",
       "        vertical-align: middle;\n",
       "    }\n",
       "\n",
       "    .dataframe tbody tr th {\n",
       "        vertical-align: top;\n",
       "    }\n",
       "\n",
       "    .dataframe thead th {\n",
       "        text-align: right;\n",
       "    }\n",
       "</style>\n",
       "<table border=\"1\" class=\"dataframe\">\n",
       "  <thead>\n",
       "    <tr style=\"text-align: right;\">\n",
       "      <th></th>\n",
       "      <th>label</th>\n",
       "      <th>tweet</th>\n",
       "    </tr>\n",
       "  </thead>\n",
       "  <tbody>\n",
       "    <tr>\n",
       "      <th>0</th>\n",
       "      <td>0</td>\n",
       "      <td>@user when a father is dysfunctional and is s...</td>\n",
       "    </tr>\n",
       "    <tr>\n",
       "      <th>1</th>\n",
       "      <td>0</td>\n",
       "      <td>@user @user thanks for #lyft credit i can't us...</td>\n",
       "    </tr>\n",
       "    <tr>\n",
       "      <th>2</th>\n",
       "      <td>0</td>\n",
       "      <td>bihday your majesty</td>\n",
       "    </tr>\n",
       "    <tr>\n",
       "      <th>3</th>\n",
       "      <td>0</td>\n",
       "      <td>#model   i love u take with u all the time in ...</td>\n",
       "    </tr>\n",
       "    <tr>\n",
       "      <th>4</th>\n",
       "      <td>0</td>\n",
       "      <td>factsguide: society now    #motivation</td>\n",
       "    </tr>\n",
       "  </tbody>\n",
       "</table>\n",
       "</div>"
      ],
      "text/plain": [
       "   label                                              tweet\n",
       "0      0   @user when a father is dysfunctional and is s...\n",
       "1      0  @user @user thanks for #lyft credit i can't us...\n",
       "2      0                                bihday your majesty\n",
       "3      0  #model   i love u take with u all the time in ...\n",
       "4      0             factsguide: society now    #motivation"
      ]
     },
     "execution_count": 489,
     "metadata": {},
     "output_type": "execute_result"
    }
   ],
   "source": [
    "train.head()"
   ]
  },
  {
   "cell_type": "code",
   "execution_count": 490,
   "id": "bb559612",
   "metadata": {},
   "outputs": [
    {
     "name": "stdout",
     "output_type": "stream",
     "text": [
      "0    29720\n",
      "1     2242\n",
      "Name: label, dtype: int64\n"
     ]
    },
    {
     "data": {
      "text/plain": [
       "'We can observe that the dataset is unbalanced. So we use further techniques to make the data balanced.'"
      ]
     },
     "execution_count": 490,
     "metadata": {},
     "output_type": "execute_result"
    }
   ],
   "source": [
    "# Checking for the balance of dataset\n",
    "\n",
    "print(train['label'].value_counts())\n",
    "\n",
    "\"\"\"We can observe that the dataset is unbalanced. So we use further techniques to make the data balanced.\"\"\""
   ]
  },
  {
   "cell_type": "code",
   "execution_count": 491,
   "id": "72b03881",
   "metadata": {},
   "outputs": [],
   "source": [
    "# Making a copy of the dataset\n",
    "\n",
    "df = train"
   ]
  },
  {
   "cell_type": "code",
   "execution_count": 492,
   "id": "4070aa25",
   "metadata": {},
   "outputs": [],
   "source": [
    "#Importing NearMiss() library for performing under sampling to balance dataset\n",
    "\n",
    "from imblearn.under_sampling import NearMiss\n",
    "\n",
    "X,y  = df[\"tweet\"],df['label']"
   ]
  },
  {
   "cell_type": "code",
   "execution_count": 493,
   "id": "92539a29",
   "metadata": {},
   "outputs": [],
   "source": [
    "#Creating an object for NearMiss()\n",
    "\n",
    "sampling = NearMiss()"
   ]
  },
  {
   "cell_type": "code",
   "execution_count": null,
   "id": "dd423ca6",
   "metadata": {},
   "outputs": [],
   "source": []
  },
  {
   "cell_type": "code",
   "execution_count": 494,
   "id": "48f9665a",
   "metadata": {},
   "outputs": [
    {
     "data": {
      "text/plain": [
       "0         @user when a father is dysfunctional and is s...\n",
       "1        @user @user thanks for #lyft credit i can't us...\n",
       "2                                      bihday your majesty\n",
       "3        #model   i love u take with u all the time in ...\n",
       "4                   factsguide: society now    #motivation\n",
       "                               ...                        \n",
       "31957    ate @user isz that youuu?ðððððð...\n",
       "31958      to see nina turner on the airwaves trying to...\n",
       "31959    listening to sad songs on a monday morning otw...\n",
       "31960    @user #sikh #temple vandalised in in #calgary,...\n",
       "31961                     thank you @user for you follow  \n",
       "Name: tweet, Length: 31962, dtype: object"
      ]
     },
     "execution_count": 494,
     "metadata": {},
     "output_type": "execute_result"
    }
   ],
   "source": [
    "# Converting all the tweets to lower case\n",
    "df['tweet'].str.lower()"
   ]
  },
  {
   "cell_type": "code",
   "execution_count": 495,
   "id": "0c05448c",
   "metadata": {},
   "outputs": [],
   "source": [
    "#Cross checking if all the tweets have been transformed to lower case letters.\n",
    "#for x in df['tweet']:\n",
    " #   if x.islower() == False:\n",
    "  #      print(x)\n",
    "        \n",
    "        \n",
    "# Since no output is printed, we can confirm that all the tweets have been transformed to lowercase. "
   ]
  },
  {
   "cell_type": "code",
   "execution_count": 496,
   "id": "f54e4cda",
   "metadata": {},
   "outputs": [],
   "source": [
    "#Appending all the tweets into a list for the convinience of text pre-processing. \n",
    "tweets = []\n",
    "\n",
    "for x in range(0,len(df)):\n",
    "    tweets.append(\"\".join(str(x) for x in df.iloc[x,1]))"
   ]
  },
  {
   "cell_type": "code",
   "execution_count": 497,
   "id": "36075ee1",
   "metadata": {},
   "outputs": [],
   "source": [
    "#Importing nltk library, wordnetlemmatizer and stop words\n",
    "\n",
    "import nltk\n",
    "from nltk.stem import WordNetLemmatizer\n",
    "from nltk.corpus import stopwords\n",
    "from sklearn.feature_extraction.text import CountVectorizer\n",
    "\n"
   ]
  },
  {
   "cell_type": "code",
   "execution_count": 498,
   "id": "fdd5c749",
   "metadata": {},
   "outputs": [],
   "source": [
    "# Creating an object for wordnet lemmatizer\n",
    "\n",
    "lemmatizer = WordNetLemmatizer()\n"
   ]
  },
  {
   "cell_type": "code",
   "execution_count": 499,
   "id": "94aa116a",
   "metadata": {},
   "outputs": [],
   "source": [
    "# Removing stop words and performing lemmatization on tweets\n",
    "\n",
    "for x in range(0,len(df)):\n",
    "    word = nltk.word_tokenize(tweets[x])\n",
    "    words = [lemmatizer.lemmatize(a) for a in word if a not in set(stopwords.words(\"english\"))]\n",
    "    tweets[x] = \" \".join(words)"
   ]
  },
  {
   "cell_type": "code",
   "execution_count": 500,
   "id": "52f05f1c",
   "metadata": {},
   "outputs": [
    {
     "data": {
      "text/html": [
       "<div>\n",
       "<style scoped>\n",
       "    .dataframe tbody tr th:only-of-type {\n",
       "        vertical-align: middle;\n",
       "    }\n",
       "\n",
       "    .dataframe tbody tr th {\n",
       "        vertical-align: top;\n",
       "    }\n",
       "\n",
       "    .dataframe thead th {\n",
       "        text-align: right;\n",
       "    }\n",
       "</style>\n",
       "<table border=\"1\" class=\"dataframe\">\n",
       "  <thead>\n",
       "    <tr style=\"text-align: right;\">\n",
       "      <th></th>\n",
       "      <th>label</th>\n",
       "      <th>tweet</th>\n",
       "    </tr>\n",
       "  </thead>\n",
       "  <tbody>\n",
       "    <tr>\n",
       "      <th>0</th>\n",
       "      <td>0</td>\n",
       "      <td>@user when a father is dysfunctional and is s...</td>\n",
       "    </tr>\n",
       "  </tbody>\n",
       "</table>\n",
       "</div>"
      ],
      "text/plain": [
       "   label                                              tweet\n",
       "0      0   @user when a father is dysfunctional and is s..."
      ]
     },
     "execution_count": 500,
     "metadata": {},
     "output_type": "execute_result"
    }
   ],
   "source": [
    "df.head(1)"
   ]
  },
  {
   "cell_type": "code",
   "execution_count": 501,
   "id": "e98bef0b",
   "metadata": {},
   "outputs": [],
   "source": [
    "for i in range(0,len(tweets)):\n",
    "    df.iloc[i,1] = tweets[i]"
   ]
  },
  {
   "cell_type": "code",
   "execution_count": 502,
   "id": "86076f23",
   "metadata": {},
   "outputs": [
    {
     "data": {
      "text/html": [
       "<div>\n",
       "<style scoped>\n",
       "    .dataframe tbody tr th:only-of-type {\n",
       "        vertical-align: middle;\n",
       "    }\n",
       "\n",
       "    .dataframe tbody tr th {\n",
       "        vertical-align: top;\n",
       "    }\n",
       "\n",
       "    .dataframe thead th {\n",
       "        text-align: right;\n",
       "    }\n",
       "</style>\n",
       "<table border=\"1\" class=\"dataframe\">\n",
       "  <thead>\n",
       "    <tr style=\"text-align: right;\">\n",
       "      <th></th>\n",
       "      <th>label</th>\n",
       "      <th>tweet</th>\n",
       "    </tr>\n",
       "  </thead>\n",
       "  <tbody>\n",
       "    <tr>\n",
       "      <th>0</th>\n",
       "      <td>0</td>\n",
       "      <td>@ user father dysfunctional selfish drag kid d...</td>\n",
       "    </tr>\n",
       "  </tbody>\n",
       "</table>\n",
       "</div>"
      ],
      "text/plain": [
       "   label                                              tweet\n",
       "0      0  @ user father dysfunctional selfish drag kid d..."
      ]
     },
     "execution_count": 502,
     "metadata": {},
     "output_type": "execute_result"
    }
   ],
   "source": [
    "df.head(1)"
   ]
  },
  {
   "cell_type": "code",
   "execution_count": 503,
   "id": "6783a075",
   "metadata": {},
   "outputs": [],
   "source": [
    "# Eliminating all the punctuations in the sentences. \n",
    "\n",
    "df.replace(\"[^a-zA-Z]\",\" \",regex=True,inplace=True)"
   ]
  },
  {
   "cell_type": "code",
   "execution_count": 504,
   "id": "39573e58",
   "metadata": {},
   "outputs": [
    {
     "data": {
      "text/html": [
       "<div>\n",
       "<style scoped>\n",
       "    .dataframe tbody tr th:only-of-type {\n",
       "        vertical-align: middle;\n",
       "    }\n",
       "\n",
       "    .dataframe tbody tr th {\n",
       "        vertical-align: top;\n",
       "    }\n",
       "\n",
       "    .dataframe thead th {\n",
       "        text-align: right;\n",
       "    }\n",
       "</style>\n",
       "<table border=\"1\" class=\"dataframe\">\n",
       "  <thead>\n",
       "    <tr style=\"text-align: right;\">\n",
       "      <th></th>\n",
       "      <th>label</th>\n",
       "      <th>tweet</th>\n",
       "    </tr>\n",
       "  </thead>\n",
       "  <tbody>\n",
       "    <tr>\n",
       "      <th>0</th>\n",
       "      <td>0</td>\n",
       "      <td>user father dysfunctional selfish drag kid d...</td>\n",
       "    </tr>\n",
       "  </tbody>\n",
       "</table>\n",
       "</div>"
      ],
      "text/plain": [
       "   label                                              tweet\n",
       "0      0    user father dysfunctional selfish drag kid d..."
      ]
     },
     "execution_count": 504,
     "metadata": {},
     "output_type": "execute_result"
    }
   ],
   "source": [
    "df.head(1)"
   ]
  },
  {
   "cell_type": "code",
   "execution_count": 505,
   "id": "41c9dd74",
   "metadata": {},
   "outputs": [],
   "source": [
    "#Appending all the tweets into a list\n",
    "tweets = []\n",
    "\n",
    "for x in range(0,len(df)):\n",
    "    tweets.append(\"\".join(str(x) for x in df.iloc[x,1]))"
   ]
  },
  {
   "cell_type": "code",
   "execution_count": null,
   "id": "0fd3e78f",
   "metadata": {},
   "outputs": [],
   "source": []
  },
  {
   "cell_type": "code",
   "execution_count": null,
   "id": "851899e2",
   "metadata": {},
   "outputs": [],
   "source": []
  },
  {
   "cell_type": "code",
   "execution_count": null,
   "id": "1f0152f6",
   "metadata": {},
   "outputs": [],
   "source": []
  },
  {
   "cell_type": "code",
   "execution_count": 506,
   "id": "d07235c4",
   "metadata": {},
   "outputs": [],
   "source": [
    "df_balanced = df[df['label']==1]"
   ]
  },
  {
   "cell_type": "code",
   "execution_count": 507,
   "id": "9df880d8",
   "metadata": {},
   "outputs": [],
   "source": [
    "sample_ = df[df['label']==0]"
   ]
  },
  {
   "cell_type": "code",
   "execution_count": 508,
   "id": "cdf7df7a",
   "metadata": {},
   "outputs": [],
   "source": [
    "sample_ = sample_.sample(len(df_balanced))"
   ]
  },
  {
   "cell_type": "code",
   "execution_count": 509,
   "id": "89e936c5",
   "metadata": {},
   "outputs": [],
   "source": [
    "balanced_df = pd.concat([sample_,df_balanced],axis=0)"
   ]
  },
  {
   "cell_type": "code",
   "execution_count": 510,
   "id": "2e39434e",
   "metadata": {},
   "outputs": [
    {
     "data": {
      "text/plain": [
       "0    2242\n",
       "1    2242\n",
       "Name: label, dtype: int64"
      ]
     },
     "execution_count": 510,
     "metadata": {},
     "output_type": "execute_result"
    }
   ],
   "source": [
    "#Balanced dataset\n",
    "\n",
    "balanced_df['label'].value_counts()"
   ]
  },
  {
   "cell_type": "code",
   "execution_count": 511,
   "id": "9ea1d6db",
   "metadata": {},
   "outputs": [],
   "source": [
    "balanced_df.index = [x for x in range(len(balanced_df))]\n",
    "    "
   ]
  },
  {
   "cell_type": "code",
   "execution_count": 512,
   "id": "5a025696",
   "metadata": {},
   "outputs": [],
   "source": [
    "train,test = balanced_df['tweet'],balanced_df['label']"
   ]
  },
  {
   "cell_type": "code",
   "execution_count": 513,
   "id": "b41d2f0c",
   "metadata": {},
   "outputs": [],
   "source": [
    "train = pd.DataFrame(train, columns=[\"tweet\"])\n",
    "test = pd.DataFrame(test, columns=[\"label\"])"
   ]
  },
  {
   "cell_type": "code",
   "execution_count": 514,
   "id": "ede2e777",
   "metadata": {},
   "outputs": [],
   "source": [
    "def index_corrector(df):\n",
    "    df.index = [x for x in range(len(df))]"
   ]
  },
  {
   "cell_type": "code",
   "execution_count": 515,
   "id": "66a9e2f1",
   "metadata": {},
   "outputs": [],
   "source": [
    "from sklearn.model_selection import train_test_split"
   ]
  },
  {
   "cell_type": "code",
   "execution_count": 516,
   "id": "745f8250",
   "metadata": {},
   "outputs": [],
   "source": [
    "train_X,test_X,train_y,test_y = train_test_split(train,test,test_size=0.23,random_state=0)"
   ]
  },
  {
   "cell_type": "code",
   "execution_count": 517,
   "id": "f5fe6cf5",
   "metadata": {},
   "outputs": [],
   "source": [
    "train_tweets= []\n",
    "test_tweets = []"
   ]
  },
  {
   "cell_type": "code",
   "execution_count": 518,
   "id": "02c52cc9",
   "metadata": {},
   "outputs": [],
   "source": [
    "for x in train_X['tweet']:\n",
    "    train_tweets.append(x)\n",
    "    \n",
    "for y in test_X['tweet']:\n",
    "    test_tweets.append(y)\n",
    "    "
   ]
  },
  {
   "cell_type": "code",
   "execution_count": 519,
   "id": "7c0d43f2",
   "metadata": {},
   "outputs": [
    {
     "name": "stdout",
     "output_type": "stream",
     "text": [
      "3452 1032\n"
     ]
    }
   ],
   "source": [
    "print(len(train_tweets),len(test_tweets))"
   ]
  },
  {
   "cell_type": "code",
   "execution_count": null,
   "id": "83d9c7d7",
   "metadata": {},
   "outputs": [],
   "source": []
  },
  {
   "cell_type": "code",
   "execution_count": 520,
   "id": "c770c6b8",
   "metadata": {},
   "outputs": [],
   "source": [
    "from sklearn.feature_extraction.text import CountVectorizer\n",
    "cv = CountVectorizer()\n",
    "train_X = cv.fit_transform(train_tweets)"
   ]
  },
  {
   "cell_type": "code",
   "execution_count": 521,
   "id": "70b894cf",
   "metadata": {},
   "outputs": [
    {
     "data": {
      "text/plain": [
       "<3452x8237 sparse matrix of type '<class 'numpy.int64'>'\n",
       "\twith 27866 stored elements in Compressed Sparse Row format>"
      ]
     },
     "execution_count": 521,
     "metadata": {},
     "output_type": "execute_result"
    }
   ],
   "source": [
    "train_X"
   ]
  },
  {
   "cell_type": "code",
   "execution_count": 522,
   "id": "cba9c992",
   "metadata": {},
   "outputs": [
    {
     "data": {
      "text/html": [
       "<div>\n",
       "<style scoped>\n",
       "    .dataframe tbody tr th:only-of-type {\n",
       "        vertical-align: middle;\n",
       "    }\n",
       "\n",
       "    .dataframe tbody tr th {\n",
       "        vertical-align: top;\n",
       "    }\n",
       "\n",
       "    .dataframe thead th {\n",
       "        text-align: right;\n",
       "    }\n",
       "</style>\n",
       "<table border=\"1\" class=\"dataframe\">\n",
       "  <thead>\n",
       "    <tr style=\"text-align: right;\">\n",
       "      <th></th>\n",
       "      <th>tweet</th>\n",
       "    </tr>\n",
       "  </thead>\n",
       "  <tbody>\n",
       "    <tr>\n",
       "      <th>379</th>\n",
       "      <td>h thing get excited     little   green   pain...</td>\n",
       "    </tr>\n",
       "    <tr>\n",
       "      <th>1939</th>\n",
       "      <td>bought   acsm guideline exercise testing presc...</td>\n",
       "    </tr>\n",
       "    <tr>\n",
       "      <th>4202</th>\n",
       "      <td>destroyed one minute   janeelliot</td>\n",
       "    </tr>\n",
       "    <tr>\n",
       "      <th>1856</th>\n",
       "      <td>m walking around nyc dont paranoid tee random...</td>\n",
       "    </tr>\n",
       "    <tr>\n",
       "      <th>872</th>\n",
       "      <td>wait another hour able play game   starcraft  ...</td>\n",
       "    </tr>\n",
       "    <tr>\n",
       "      <th>...</th>\n",
       "      <td>...</td>\n",
       "    </tr>\n",
       "    <tr>\n",
       "      <th>3029</th>\n",
       "      <td>y all   global   may lose folk understand</td>\n",
       "    </tr>\n",
       "    <tr>\n",
       "      <th>2450</th>\n",
       "      <td>destructive socialist   maddow   user</td>\n",
       "    </tr>\n",
       "    <tr>\n",
       "      <th>2361</th>\n",
       "      <td>paul beloy   still issue varying level belgian...</td>\n",
       "    </tr>\n",
       "    <tr>\n",
       "      <th>2829</th>\n",
       "      <td>user come   supermistict douchebag poke nose...</td>\n",
       "    </tr>\n",
       "    <tr>\n",
       "      <th>4421</th>\n",
       "      <td>malia shake as   fine         pas blunt</td>\n",
       "    </tr>\n",
       "  </tbody>\n",
       "</table>\n",
       "<p>1032 rows × 1 columns</p>\n",
       "</div>"
      ],
      "text/plain": [
       "                                                  tweet\n",
       "379    h thing get excited     little   green   pain...\n",
       "1939  bought   acsm guideline exercise testing presc...\n",
       "4202                  destroyed one minute   janeelliot\n",
       "1856   m walking around nyc dont paranoid tee random...\n",
       "872   wait another hour able play game   starcraft  ...\n",
       "...                                                 ...\n",
       "3029        y all   global   may lose folk understand  \n",
       "2450              destructive socialist   maddow   user\n",
       "2361  paul beloy   still issue varying level belgian...\n",
       "2829    user come   supermistict douchebag poke nose...\n",
       "4421            malia shake as   fine         pas blunt\n",
       "\n",
       "[1032 rows x 1 columns]"
      ]
     },
     "execution_count": 522,
     "metadata": {},
     "output_type": "execute_result"
    }
   ],
   "source": [
    "test_X"
   ]
  },
  {
   "cell_type": "code",
   "execution_count": 523,
   "id": "0f73edac",
   "metadata": {},
   "outputs": [
    {
     "data": {
      "text/plain": [
       "<1x8244 sparse matrix of type '<class 'numpy.int64'>'\n",
       "\twith 7 stored elements in Compressed Sparse Row format>"
      ]
     },
     "execution_count": 523,
     "metadata": {},
     "output_type": "execute_result"
    }
   ],
   "source": [
    "final_tweet"
   ]
  },
  {
   "cell_type": "code",
   "execution_count": null,
   "id": "89203e10",
   "metadata": {},
   "outputs": [],
   "source": []
  },
  {
   "cell_type": "code",
   "execution_count": 524,
   "id": "d6f3a31f",
   "metadata": {},
   "outputs": [],
   "source": [
    "from sklearn.ensemble import RandomForestClassifier"
   ]
  },
  {
   "cell_type": "code",
   "execution_count": 525,
   "id": "c2798a66",
   "metadata": {},
   "outputs": [],
   "source": [
    "model = RandomForestClassifier()"
   ]
  },
  {
   "cell_type": "code",
   "execution_count": 526,
   "id": "76bb8f47",
   "metadata": {},
   "outputs": [
    {
     "name": "stderr",
     "output_type": "stream",
     "text": [
      "/var/folders/r_/18s94lss4v17lxv_n1qp6k8r0000gn/T/ipykernel_3083/3489061369.py:1: DataConversionWarning: A column-vector y was passed when a 1d array was expected. Please change the shape of y to (n_samples,), for example using ravel().\n",
      "  model.fit(train_X,train_y)\n"
     ]
    },
    {
     "data": {
      "text/plain": [
       "RandomForestClassifier()"
      ]
     },
     "execution_count": 526,
     "metadata": {},
     "output_type": "execute_result"
    }
   ],
   "source": [
    "model.fit(train_X,train_y)"
   ]
  },
  {
   "cell_type": "code",
   "execution_count": 527,
   "id": "5544604e",
   "metadata": {},
   "outputs": [],
   "source": [
    "test_X = cv.transform(test_tweets)"
   ]
  },
  {
   "cell_type": "code",
   "execution_count": 528,
   "id": "f09e698f",
   "metadata": {},
   "outputs": [
    {
     "data": {
      "text/plain": [
       "<1032x8237 sparse matrix of type '<class 'numpy.int64'>'\n",
       "\twith 6899 stored elements in Compressed Sparse Row format>"
      ]
     },
     "execution_count": 528,
     "metadata": {},
     "output_type": "execute_result"
    }
   ],
   "source": [
    "test_X"
   ]
  },
  {
   "cell_type": "code",
   "execution_count": 529,
   "id": "bd1f22c0",
   "metadata": {},
   "outputs": [
    {
     "data": {
      "text/plain": [
       "array([0, 0, 0, ..., 1, 1, 0])"
      ]
     },
     "execution_count": 529,
     "metadata": {},
     "output_type": "execute_result"
    }
   ],
   "source": [
    "model.predict(test_X)"
   ]
  },
  {
   "cell_type": "code",
   "execution_count": 530,
   "id": "70b55474",
   "metadata": {},
   "outputs": [],
   "source": [
    "from sklearn.metrics import accuracy_score"
   ]
  },
  {
   "cell_type": "code",
   "execution_count": 531,
   "id": "749b4967",
   "metadata": {},
   "outputs": [],
   "source": [
    "score = accuracy_score(test_y,model.predict(test_X))"
   ]
  },
  {
   "cell_type": "code",
   "execution_count": 532,
   "id": "2589d881",
   "metadata": {},
   "outputs": [
    {
     "data": {
      "text/plain": [
       "0.8517441860465116"
      ]
     },
     "execution_count": 532,
     "metadata": {},
     "output_type": "execute_result"
    }
   ],
   "source": [
    "score"
   ]
  },
  {
   "cell_type": "code",
   "execution_count": 533,
   "id": "4c1a2d4a",
   "metadata": {},
   "outputs": [],
   "source": [
    "test_data = pd.read_csv(\"test.csv\",usecols=['tweet'])"
   ]
  },
  {
   "cell_type": "code",
   "execution_count": 534,
   "id": "30154e50",
   "metadata": {},
   "outputs": [
    {
     "data": {
      "text/html": [
       "<div>\n",
       "<style scoped>\n",
       "    .dataframe tbody tr th:only-of-type {\n",
       "        vertical-align: middle;\n",
       "    }\n",
       "\n",
       "    .dataframe tbody tr th {\n",
       "        vertical-align: top;\n",
       "    }\n",
       "\n",
       "    .dataframe thead th {\n",
       "        text-align: right;\n",
       "    }\n",
       "</style>\n",
       "<table border=\"1\" class=\"dataframe\">\n",
       "  <thead>\n",
       "    <tr style=\"text-align: right;\">\n",
       "      <th></th>\n",
       "      <th>tweet</th>\n",
       "    </tr>\n",
       "  </thead>\n",
       "  <tbody>\n",
       "    <tr>\n",
       "      <th>0</th>\n",
       "      <td>#studiolife #aislife #requires #passion #dedic...</td>\n",
       "    </tr>\n",
       "    <tr>\n",
       "      <th>1</th>\n",
       "      <td>@user #white #supremacists want everyone to s...</td>\n",
       "    </tr>\n",
       "    <tr>\n",
       "      <th>2</th>\n",
       "      <td>safe ways to heal your #acne!!    #altwaystohe...</td>\n",
       "    </tr>\n",
       "    <tr>\n",
       "      <th>3</th>\n",
       "      <td>is the hp and the cursed child book up for res...</td>\n",
       "    </tr>\n",
       "    <tr>\n",
       "      <th>4</th>\n",
       "      <td>3rd #bihday to my amazing, hilarious #nephew...</td>\n",
       "    </tr>\n",
       "    <tr>\n",
       "      <th>...</th>\n",
       "      <td>...</td>\n",
       "    </tr>\n",
       "    <tr>\n",
       "      <th>17192</th>\n",
       "      <td>thought factory: left-right polarisation! #tru...</td>\n",
       "    </tr>\n",
       "    <tr>\n",
       "      <th>17193</th>\n",
       "      <td>feeling like a mermaid ð #hairflip #neverre...</td>\n",
       "    </tr>\n",
       "    <tr>\n",
       "      <th>17194</th>\n",
       "      <td>#hillary #campaigned today in #ohio((omg)) &amp;am...</td>\n",
       "    </tr>\n",
       "    <tr>\n",
       "      <th>17195</th>\n",
       "      <td>happy, at work conference: right mindset leads...</td>\n",
       "    </tr>\n",
       "    <tr>\n",
       "      <th>17196</th>\n",
       "      <td>my   song \"so glad\" free download!  #shoegaze ...</td>\n",
       "    </tr>\n",
       "  </tbody>\n",
       "</table>\n",
       "<p>17197 rows × 1 columns</p>\n",
       "</div>"
      ],
      "text/plain": [
       "                                                   tweet\n",
       "0      #studiolife #aislife #requires #passion #dedic...\n",
       "1       @user #white #supremacists want everyone to s...\n",
       "2      safe ways to heal your #acne!!    #altwaystohe...\n",
       "3      is the hp and the cursed child book up for res...\n",
       "4        3rd #bihday to my amazing, hilarious #nephew...\n",
       "...                                                  ...\n",
       "17192  thought factory: left-right polarisation! #tru...\n",
       "17193  feeling like a mermaid ð #hairflip #neverre...\n",
       "17194  #hillary #campaigned today in #ohio((omg)) &am...\n",
       "17195  happy, at work conference: right mindset leads...\n",
       "17196  my   song \"so glad\" free download!  #shoegaze ...\n",
       "\n",
       "[17197 rows x 1 columns]"
      ]
     },
     "execution_count": 534,
     "metadata": {},
     "output_type": "execute_result"
    }
   ],
   "source": [
    "test_data"
   ]
  },
  {
   "cell_type": "code",
   "execution_count": 535,
   "id": "2f9d8a08",
   "metadata": {},
   "outputs": [],
   "source": [
    "testing_dataset_tweets = [ ]\n",
    "\n",
    "def text_preprocessing(df,col_name,list_name):\n",
    "    \n",
    "    df[col_name].str.lower()\n",
    "    \n",
    "    for x in range(0,len(df)):\n",
    "        list_name.append(\"\".join(str(a) for a in df.iloc[x,0]))\n",
    "\n",
    "        \n",
    "    for y in range(0,len(df)):\n",
    "        collection = nltk.word_tokenize(list_name[y])\n",
    "        collections = [lemmatizer.lemmatize(sent) for sent in collection if sent not in set(stopwords.words(\"english\"))]\n",
    "        list_name[y] = \" \".join(collections)\n",
    "\n",
    "    for z in range(0,len(df)):\n",
    "        df.iloc[z,0] = list_name[z]\n",
    "    \n",
    "    df.replace(\"[^a-zA-Z]\",\" \",regex=True,inplace=True)\n",
    "    \n",
    "    list_name.clear()\n",
    "    \n",
    "    for f in range(0,len(df)):\n",
    "        list_name.append(\"\".join(str(t) for t in df.iloc[f,0]))"
   ]
  },
  {
   "cell_type": "code",
   "execution_count": 536,
   "id": "662f1c8b",
   "metadata": {},
   "outputs": [],
   "source": [
    "text_preprocessing(test_data,'tweet',testing_dataset_tweets)"
   ]
  },
  {
   "cell_type": "code",
   "execution_count": 537,
   "id": "ea63d215",
   "metadata": {},
   "outputs": [],
   "source": [
    "final_test_data = cv.transform(testing_dataset_tweets)"
   ]
  },
  {
   "cell_type": "code",
   "execution_count": 538,
   "id": "52888d1f",
   "metadata": {},
   "outputs": [],
   "source": [
    "labels = pd.DataFrame(model.predict(final_test_data),columns=['label'])"
   ]
  },
  {
   "cell_type": "code",
   "execution_count": 539,
   "id": "952de023",
   "metadata": {},
   "outputs": [
    {
     "data": {
      "text/html": [
       "<div>\n",
       "<style scoped>\n",
       "    .dataframe tbody tr th:only-of-type {\n",
       "        vertical-align: middle;\n",
       "    }\n",
       "\n",
       "    .dataframe tbody tr th {\n",
       "        vertical-align: top;\n",
       "    }\n",
       "\n",
       "    .dataframe thead th {\n",
       "        text-align: right;\n",
       "    }\n",
       "</style>\n",
       "<table border=\"1\" class=\"dataframe\">\n",
       "  <thead>\n",
       "    <tr style=\"text-align: right;\">\n",
       "      <th></th>\n",
       "      <th>label</th>\n",
       "    </tr>\n",
       "  </thead>\n",
       "  <tbody>\n",
       "    <tr>\n",
       "      <th>0</th>\n",
       "      <td>0</td>\n",
       "    </tr>\n",
       "    <tr>\n",
       "      <th>1</th>\n",
       "      <td>1</td>\n",
       "    </tr>\n",
       "    <tr>\n",
       "      <th>2</th>\n",
       "      <td>0</td>\n",
       "    </tr>\n",
       "    <tr>\n",
       "      <th>3</th>\n",
       "      <td>0</td>\n",
       "    </tr>\n",
       "    <tr>\n",
       "      <th>4</th>\n",
       "      <td>0</td>\n",
       "    </tr>\n",
       "    <tr>\n",
       "      <th>...</th>\n",
       "      <td>...</td>\n",
       "    </tr>\n",
       "    <tr>\n",
       "      <th>17192</th>\n",
       "      <td>1</td>\n",
       "    </tr>\n",
       "    <tr>\n",
       "      <th>17193</th>\n",
       "      <td>0</td>\n",
       "    </tr>\n",
       "    <tr>\n",
       "      <th>17194</th>\n",
       "      <td>1</td>\n",
       "    </tr>\n",
       "    <tr>\n",
       "      <th>17195</th>\n",
       "      <td>0</td>\n",
       "    </tr>\n",
       "    <tr>\n",
       "      <th>17196</th>\n",
       "      <td>0</td>\n",
       "    </tr>\n",
       "  </tbody>\n",
       "</table>\n",
       "<p>17197 rows × 1 columns</p>\n",
       "</div>"
      ],
      "text/plain": [
       "       label\n",
       "0          0\n",
       "1          1\n",
       "2          0\n",
       "3          0\n",
       "4          0\n",
       "...      ...\n",
       "17192      1\n",
       "17193      0\n",
       "17194      1\n",
       "17195      0\n",
       "17196      0\n",
       "\n",
       "[17197 rows x 1 columns]"
      ]
     },
     "execution_count": 539,
     "metadata": {},
     "output_type": "execute_result"
    }
   ],
   "source": [
    "labels"
   ]
  },
  {
   "cell_type": "code",
   "execution_count": 540,
   "id": "4f218cd6",
   "metadata": {},
   "outputs": [
    {
     "data": {
      "text/html": [
       "<div>\n",
       "<style scoped>\n",
       "    .dataframe tbody tr th:only-of-type {\n",
       "        vertical-align: middle;\n",
       "    }\n",
       "\n",
       "    .dataframe tbody tr th {\n",
       "        vertical-align: top;\n",
       "    }\n",
       "\n",
       "    .dataframe thead th {\n",
       "        text-align: right;\n",
       "    }\n",
       "</style>\n",
       "<table border=\"1\" class=\"dataframe\">\n",
       "  <thead>\n",
       "    <tr style=\"text-align: right;\">\n",
       "      <th></th>\n",
       "      <th>tweet</th>\n",
       "    </tr>\n",
       "  </thead>\n",
       "  <tbody>\n",
       "    <tr>\n",
       "      <th>0</th>\n",
       "      <td>studiolife   aislife   requires   passion   ...</td>\n",
       "    </tr>\n",
       "    <tr>\n",
       "      <th>1</th>\n",
       "      <td>user   white   supremacist want everyone see...</td>\n",
       "    </tr>\n",
       "    <tr>\n",
       "      <th>2</th>\n",
       "      <td>safe way heal   acne       altwaystoheal   hea...</td>\n",
       "    </tr>\n",
       "    <tr>\n",
       "      <th>3</th>\n",
       "      <td>hp cursed child book reservation already   yes...</td>\n",
       "    </tr>\n",
       "    <tr>\n",
       "      <th>4</th>\n",
       "      <td>rd   bihday amazing   hilarious   nephew eli ...</td>\n",
       "    </tr>\n",
       "    <tr>\n",
       "      <th>...</th>\n",
       "      <td>...</td>\n",
       "    </tr>\n",
       "    <tr>\n",
       "      <th>17192</th>\n",
       "      <td>thought factory   left right polarisation     ...</td>\n",
       "    </tr>\n",
       "    <tr>\n",
       "      <th>17193</th>\n",
       "      <td>feeling like mermaid        hairflip   neverre...</td>\n",
       "    </tr>\n",
       "    <tr>\n",
       "      <th>17194</th>\n",
       "      <td>hillary   campaigned today   ohio     omg   ...</td>\n",
       "    </tr>\n",
       "    <tr>\n",
       "      <th>17195</th>\n",
       "      <td>happy   work conference   right mindset lead c...</td>\n",
       "    </tr>\n",
       "    <tr>\n",
       "      <th>17196</th>\n",
       "      <td>song    glad    free download     shoegaze   n...</td>\n",
       "    </tr>\n",
       "  </tbody>\n",
       "</table>\n",
       "<p>17197 rows × 1 columns</p>\n",
       "</div>"
      ],
      "text/plain": [
       "                                                   tweet\n",
       "0        studiolife   aislife   requires   passion   ...\n",
       "1        user   white   supremacist want everyone see...\n",
       "2      safe way heal   acne       altwaystoheal   hea...\n",
       "3      hp cursed child book reservation already   yes...\n",
       "4       rd   bihday amazing   hilarious   nephew eli ...\n",
       "...                                                  ...\n",
       "17192  thought factory   left right polarisation     ...\n",
       "17193  feeling like mermaid        hairflip   neverre...\n",
       "17194    hillary   campaigned today   ohio     omg   ...\n",
       "17195  happy   work conference   right mindset lead c...\n",
       "17196  song    glad    free download     shoegaze   n...\n",
       "\n",
       "[17197 rows x 1 columns]"
      ]
     },
     "execution_count": 540,
     "metadata": {},
     "output_type": "execute_result"
    }
   ],
   "source": [
    "test_data"
   ]
  },
  {
   "cell_type": "code",
   "execution_count": 541,
   "id": "18c178e3",
   "metadata": {},
   "outputs": [],
   "source": [
    "final_test_data = pd.concat([test_data,labels],axis=1)"
   ]
  },
  {
   "cell_type": "code",
   "execution_count": 542,
   "id": "168fafc9",
   "metadata": {},
   "outputs": [
    {
     "data": {
      "text/html": [
       "<div>\n",
       "<style scoped>\n",
       "    .dataframe tbody tr th:only-of-type {\n",
       "        vertical-align: middle;\n",
       "    }\n",
       "\n",
       "    .dataframe tbody tr th {\n",
       "        vertical-align: top;\n",
       "    }\n",
       "\n",
       "    .dataframe thead th {\n",
       "        text-align: right;\n",
       "    }\n",
       "</style>\n",
       "<table border=\"1\" class=\"dataframe\">\n",
       "  <thead>\n",
       "    <tr style=\"text-align: right;\">\n",
       "      <th></th>\n",
       "      <th>tweet</th>\n",
       "      <th>label</th>\n",
       "    </tr>\n",
       "  </thead>\n",
       "  <tbody>\n",
       "    <tr>\n",
       "      <th>0</th>\n",
       "      <td>studiolife   aislife   requires   passion   ...</td>\n",
       "      <td>0</td>\n",
       "    </tr>\n",
       "    <tr>\n",
       "      <th>1</th>\n",
       "      <td>user   white   supremacist want everyone see...</td>\n",
       "      <td>1</td>\n",
       "    </tr>\n",
       "    <tr>\n",
       "      <th>2</th>\n",
       "      <td>safe way heal   acne       altwaystoheal   hea...</td>\n",
       "      <td>0</td>\n",
       "    </tr>\n",
       "    <tr>\n",
       "      <th>3</th>\n",
       "      <td>hp cursed child book reservation already   yes...</td>\n",
       "      <td>0</td>\n",
       "    </tr>\n",
       "    <tr>\n",
       "      <th>4</th>\n",
       "      <td>rd   bihday amazing   hilarious   nephew eli ...</td>\n",
       "      <td>0</td>\n",
       "    </tr>\n",
       "    <tr>\n",
       "      <th>...</th>\n",
       "      <td>...</td>\n",
       "      <td>...</td>\n",
       "    </tr>\n",
       "    <tr>\n",
       "      <th>17192</th>\n",
       "      <td>thought factory   left right polarisation     ...</td>\n",
       "      <td>1</td>\n",
       "    </tr>\n",
       "    <tr>\n",
       "      <th>17193</th>\n",
       "      <td>feeling like mermaid        hairflip   neverre...</td>\n",
       "      <td>0</td>\n",
       "    </tr>\n",
       "    <tr>\n",
       "      <th>17194</th>\n",
       "      <td>hillary   campaigned today   ohio     omg   ...</td>\n",
       "      <td>1</td>\n",
       "    </tr>\n",
       "    <tr>\n",
       "      <th>17195</th>\n",
       "      <td>happy   work conference   right mindset lead c...</td>\n",
       "      <td>0</td>\n",
       "    </tr>\n",
       "    <tr>\n",
       "      <th>17196</th>\n",
       "      <td>song    glad    free download     shoegaze   n...</td>\n",
       "      <td>0</td>\n",
       "    </tr>\n",
       "  </tbody>\n",
       "</table>\n",
       "<p>17197 rows × 2 columns</p>\n",
       "</div>"
      ],
      "text/plain": [
       "                                                   tweet  label\n",
       "0        studiolife   aislife   requires   passion   ...      0\n",
       "1        user   white   supremacist want everyone see...      1\n",
       "2      safe way heal   acne       altwaystoheal   hea...      0\n",
       "3      hp cursed child book reservation already   yes...      0\n",
       "4       rd   bihday amazing   hilarious   nephew eli ...      0\n",
       "...                                                  ...    ...\n",
       "17192  thought factory   left right polarisation     ...      1\n",
       "17193  feeling like mermaid        hairflip   neverre...      0\n",
       "17194    hillary   campaigned today   ohio     omg   ...      1\n",
       "17195  happy   work conference   right mindset lead c...      0\n",
       "17196  song    glad    free download     shoegaze   n...      0\n",
       "\n",
       "[17197 rows x 2 columns]"
      ]
     },
     "execution_count": 542,
     "metadata": {},
     "output_type": "execute_result"
    }
   ],
   "source": [
    "final_test_data"
   ]
  },
  {
   "cell_type": "code",
   "execution_count": 543,
   "id": "bd9bf10c",
   "metadata": {},
   "outputs": [],
   "source": [
    "import pickle\n",
    "import flask"
   ]
  },
  {
   "cell_type": "code",
   "execution_count": 544,
   "id": "b5283919",
   "metadata": {},
   "outputs": [],
   "source": [
    "file = open(\"model.pkl\",'wb')\n",
    "pickle.dump(model,file)"
   ]
  },
  {
   "cell_type": "code",
   "execution_count": 545,
   "id": "5cf20757",
   "metadata": {},
   "outputs": [],
   "source": [
    "vectorizer = open(\"vectorizer.pkl\",'wb')\n",
    "pickle.dump(cv,vectorizer)"
   ]
  }
 ],
 "metadata": {
  "kernelspec": {
   "display_name": "Python 3",
   "language": "python",
   "name": "python3"
  },
  "language_info": {
   "codemirror_mode": {
    "name": "ipython",
    "version": 3
   },
   "file_extension": ".py",
   "mimetype": "text/x-python",
   "name": "python",
   "nbconvert_exporter": "python",
   "pygments_lexer": "ipython3",
   "version": "3.8.8"
  }
 },
 "nbformat": 4,
 "nbformat_minor": 5
}
