{
 "cells": [
  {
   "cell_type": "code",
   "execution_count": 308,
   "id": "1b19e898",
   "metadata": {},
   "outputs": [],
   "source": [
    "import pandas as pd"
   ]
  },
  {
   "cell_type": "code",
   "execution_count": 309,
   "id": "13d30016",
   "metadata": {},
   "outputs": [],
   "source": [
    "train = pd.read_csv(\"train.csv\")"
   ]
  },
  {
   "cell_type": "code",
   "execution_count": 310,
   "id": "6c3435ba",
   "metadata": {},
   "outputs": [
    {
     "data": {
      "text/html": [
       "<div>\n",
       "<style scoped>\n",
       "    .dataframe tbody tr th:only-of-type {\n",
       "        vertical-align: middle;\n",
       "    }\n",
       "\n",
       "    .dataframe tbody tr th {\n",
       "        vertical-align: top;\n",
       "    }\n",
       "\n",
       "    .dataframe thead th {\n",
       "        text-align: right;\n",
       "    }\n",
       "</style>\n",
       "<table border=\"1\" class=\"dataframe\">\n",
       "  <thead>\n",
       "    <tr style=\"text-align: right;\">\n",
       "      <th></th>\n",
       "      <th>id</th>\n",
       "      <th>label</th>\n",
       "      <th>tweet</th>\n",
       "    </tr>\n",
       "  </thead>\n",
       "  <tbody>\n",
       "    <tr>\n",
       "      <th>0</th>\n",
       "      <td>1</td>\n",
       "      <td>0</td>\n",
       "      <td>@user when a father is dysfunctional and is s...</td>\n",
       "    </tr>\n",
       "    <tr>\n",
       "      <th>1</th>\n",
       "      <td>2</td>\n",
       "      <td>0</td>\n",
       "      <td>@user @user thanks for #lyft credit i can't us...</td>\n",
       "    </tr>\n",
       "    <tr>\n",
       "      <th>2</th>\n",
       "      <td>3</td>\n",
       "      <td>0</td>\n",
       "      <td>bihday your majesty</td>\n",
       "    </tr>\n",
       "    <tr>\n",
       "      <th>3</th>\n",
       "      <td>4</td>\n",
       "      <td>0</td>\n",
       "      <td>#model   i love u take with u all the time in ...</td>\n",
       "    </tr>\n",
       "    <tr>\n",
       "      <th>4</th>\n",
       "      <td>5</td>\n",
       "      <td>0</td>\n",
       "      <td>factsguide: society now    #motivation</td>\n",
       "    </tr>\n",
       "  </tbody>\n",
       "</table>\n",
       "</div>"
      ],
      "text/plain": [
       "   id  label                                              tweet\n",
       "0   1      0   @user when a father is dysfunctional and is s...\n",
       "1   2      0  @user @user thanks for #lyft credit i can't us...\n",
       "2   3      0                                bihday your majesty\n",
       "3   4      0  #model   i love u take with u all the time in ...\n",
       "4   5      0             factsguide: society now    #motivation"
      ]
     },
     "execution_count": 310,
     "metadata": {},
     "output_type": "execute_result"
    }
   ],
   "source": [
    "train.head()"
   ]
  },
  {
   "cell_type": "code",
   "execution_count": 311,
   "id": "a0726ddc",
   "metadata": {},
   "outputs": [
    {
     "data": {
      "text/plain": [
       "(31962, 3)"
      ]
     },
     "execution_count": 311,
     "metadata": {},
     "output_type": "execute_result"
    }
   ],
   "source": [
    "train.shape"
   ]
  },
  {
   "cell_type": "markdown",
   "id": "7098849b",
   "metadata": {},
   "source": [
    "Text Preprocessing"
   ]
  },
  {
   "cell_type": "code",
   "execution_count": 312,
   "id": "f75d0a21",
   "metadata": {},
   "outputs": [],
   "source": [
    "#Drop the \"Id\" column as it does not add value to the dataset\n",
    "\n",
    "train.drop('id',axis=1,inplace=True)"
   ]
  },
  {
   "cell_type": "code",
   "execution_count": 313,
   "id": "6d7aed33",
   "metadata": {},
   "outputs": [
    {
     "data": {
      "text/html": [
       "<div>\n",
       "<style scoped>\n",
       "    .dataframe tbody tr th:only-of-type {\n",
       "        vertical-align: middle;\n",
       "    }\n",
       "\n",
       "    .dataframe tbody tr th {\n",
       "        vertical-align: top;\n",
       "    }\n",
       "\n",
       "    .dataframe thead th {\n",
       "        text-align: right;\n",
       "    }\n",
       "</style>\n",
       "<table border=\"1\" class=\"dataframe\">\n",
       "  <thead>\n",
       "    <tr style=\"text-align: right;\">\n",
       "      <th></th>\n",
       "      <th>label</th>\n",
       "      <th>tweet</th>\n",
       "    </tr>\n",
       "  </thead>\n",
       "  <tbody>\n",
       "    <tr>\n",
       "      <th>0</th>\n",
       "      <td>0</td>\n",
       "      <td>@user when a father is dysfunctional and is s...</td>\n",
       "    </tr>\n",
       "    <tr>\n",
       "      <th>1</th>\n",
       "      <td>0</td>\n",
       "      <td>@user @user thanks for #lyft credit i can't us...</td>\n",
       "    </tr>\n",
       "    <tr>\n",
       "      <th>2</th>\n",
       "      <td>0</td>\n",
       "      <td>bihday your majesty</td>\n",
       "    </tr>\n",
       "    <tr>\n",
       "      <th>3</th>\n",
       "      <td>0</td>\n",
       "      <td>#model   i love u take with u all the time in ...</td>\n",
       "    </tr>\n",
       "    <tr>\n",
       "      <th>4</th>\n",
       "      <td>0</td>\n",
       "      <td>factsguide: society now    #motivation</td>\n",
       "    </tr>\n",
       "  </tbody>\n",
       "</table>\n",
       "</div>"
      ],
      "text/plain": [
       "   label                                              tweet\n",
       "0      0   @user when a father is dysfunctional and is s...\n",
       "1      0  @user @user thanks for #lyft credit i can't us...\n",
       "2      0                                bihday your majesty\n",
       "3      0  #model   i love u take with u all the time in ...\n",
       "4      0             factsguide: society now    #motivation"
      ]
     },
     "execution_count": 313,
     "metadata": {},
     "output_type": "execute_result"
    }
   ],
   "source": [
    "train.head()"
   ]
  },
  {
   "cell_type": "code",
   "execution_count": 314,
   "id": "bb559612",
   "metadata": {},
   "outputs": [
    {
     "name": "stdout",
     "output_type": "stream",
     "text": [
      "0    29720\n",
      "1     2242\n",
      "Name: label, dtype: int64\n"
     ]
    },
    {
     "data": {
      "text/plain": [
       "'We can observe that the dataset is unbalanced. So we use further techniques to make the data balanced.'"
      ]
     },
     "execution_count": 314,
     "metadata": {},
     "output_type": "execute_result"
    }
   ],
   "source": [
    "# Checking for the balance of dataset\n",
    "\n",
    "print(train['label'].value_counts())\n",
    "\n",
    "\"\"\"We can observe that the dataset is unbalanced. So we use further techniques to make the data balanced.\"\"\""
   ]
  },
  {
   "cell_type": "code",
   "execution_count": 315,
   "id": "72b03881",
   "metadata": {},
   "outputs": [],
   "source": [
    "# Making a copy of the dataset\n",
    "\n",
    "df = train"
   ]
  },
  {
   "cell_type": "code",
   "execution_count": 316,
   "id": "4070aa25",
   "metadata": {},
   "outputs": [],
   "source": [
    "#Importing NearMiss() library for performing under sampling to balance dataset\n",
    "\n",
    "from imblearn.under_sampling import NearMiss\n",
    "\n",
    "X,y  = df[\"tweet\"],df['label']"
   ]
  },
  {
   "cell_type": "code",
   "execution_count": 317,
   "id": "92539a29",
   "metadata": {},
   "outputs": [],
   "source": [
    "#Creating an object for NearMiss()\n",
    "\n",
    "sampling = NearMiss()"
   ]
  },
  {
   "cell_type": "code",
   "execution_count": null,
   "id": "dd423ca6",
   "metadata": {},
   "outputs": [],
   "source": []
  },
  {
   "cell_type": "code",
   "execution_count": 318,
   "id": "48f9665a",
   "metadata": {},
   "outputs": [
    {
     "data": {
      "text/plain": [
       "0         @user when a father is dysfunctional and is s...\n",
       "1        @user @user thanks for #lyft credit i can't us...\n",
       "2                                      bihday your majesty\n",
       "3        #model   i love u take with u all the time in ...\n",
       "4                   factsguide: society now    #motivation\n",
       "                               ...                        \n",
       "31957    ate @user isz that youuu?ðððððð...\n",
       "31958      to see nina turner on the airwaves trying to...\n",
       "31959    listening to sad songs on a monday morning otw...\n",
       "31960    @user #sikh #temple vandalised in in #calgary,...\n",
       "31961                     thank you @user for you follow  \n",
       "Name: tweet, Length: 31962, dtype: object"
      ]
     },
     "execution_count": 318,
     "metadata": {},
     "output_type": "execute_result"
    }
   ],
   "source": [
    "# Converting all the tweets to lower case\n",
    "df['tweet'].str.lower()"
   ]
  },
  {
   "cell_type": "code",
   "execution_count": 319,
   "id": "0c05448c",
   "metadata": {},
   "outputs": [],
   "source": [
    "#Cross checking if all the tweets have been transformed to lower case letters.\n",
    "#for x in df['tweet']:\n",
    " #   if x.islower() == False:\n",
    "  #      print(x)\n",
    "        \n",
    "        \n",
    "# Since no output is printed, we can confirm that all the tweets have been transformed to lowercase. "
   ]
  },
  {
   "cell_type": "code",
   "execution_count": 320,
   "id": "f54e4cda",
   "metadata": {},
   "outputs": [],
   "source": [
    "#Appending all the tweets into a list for the convinience of text pre-processing. \n",
    "tweets = []\n",
    "\n",
    "for x in range(0,len(df)):\n",
    "    tweets.append(\"\".join(str(x) for x in df.iloc[x,1]))"
   ]
  },
  {
   "cell_type": "code",
   "execution_count": 321,
   "id": "36075ee1",
   "metadata": {},
   "outputs": [],
   "source": [
    "#Importing nltk library, wordnetlemmatizer and stop words\n",
    "\n",
    "import nltk\n",
    "from nltk.stem import WordNetLemmatizer\n",
    "from nltk.corpus import stopwords\n",
    "from sklearn.feature_extraction.text import CountVectorizer\n",
    "\n"
   ]
  },
  {
   "cell_type": "code",
   "execution_count": 322,
   "id": "fdd5c749",
   "metadata": {},
   "outputs": [],
   "source": [
    "# Creating an object for wordnet lemmatizer\n",
    "\n",
    "lemmatizer = WordNetLemmatizer()\n"
   ]
  },
  {
   "cell_type": "code",
   "execution_count": 323,
   "id": "94aa116a",
   "metadata": {},
   "outputs": [],
   "source": [
    "# Removing stop words and performing lemmatization on tweets\n",
    "\n",
    "for x in range(0,len(df)):\n",
    "    word = nltk.word_tokenize(tweets[x])\n",
    "    words = [lemmatizer.lemmatize(a) for a in word if a not in set(stopwords.words(\"english\"))]\n",
    "    tweets[x] = \" \".join(words)"
   ]
  },
  {
   "cell_type": "code",
   "execution_count": 324,
   "id": "52f05f1c",
   "metadata": {},
   "outputs": [
    {
     "data": {
      "text/html": [
       "<div>\n",
       "<style scoped>\n",
       "    .dataframe tbody tr th:only-of-type {\n",
       "        vertical-align: middle;\n",
       "    }\n",
       "\n",
       "    .dataframe tbody tr th {\n",
       "        vertical-align: top;\n",
       "    }\n",
       "\n",
       "    .dataframe thead th {\n",
       "        text-align: right;\n",
       "    }\n",
       "</style>\n",
       "<table border=\"1\" class=\"dataframe\">\n",
       "  <thead>\n",
       "    <tr style=\"text-align: right;\">\n",
       "      <th></th>\n",
       "      <th>label</th>\n",
       "      <th>tweet</th>\n",
       "    </tr>\n",
       "  </thead>\n",
       "  <tbody>\n",
       "    <tr>\n",
       "      <th>0</th>\n",
       "      <td>0</td>\n",
       "      <td>@user when a father is dysfunctional and is s...</td>\n",
       "    </tr>\n",
       "  </tbody>\n",
       "</table>\n",
       "</div>"
      ],
      "text/plain": [
       "   label                                              tweet\n",
       "0      0   @user when a father is dysfunctional and is s..."
      ]
     },
     "execution_count": 324,
     "metadata": {},
     "output_type": "execute_result"
    }
   ],
   "source": [
    "df.head(1)"
   ]
  },
  {
   "cell_type": "code",
   "execution_count": 325,
   "id": "e98bef0b",
   "metadata": {},
   "outputs": [],
   "source": [
    "for i in range(0,len(tweets)):\n",
    "    df.iloc[i,1] = tweets[i]"
   ]
  },
  {
   "cell_type": "code",
   "execution_count": 326,
   "id": "86076f23",
   "metadata": {},
   "outputs": [
    {
     "data": {
      "text/html": [
       "<div>\n",
       "<style scoped>\n",
       "    .dataframe tbody tr th:only-of-type {\n",
       "        vertical-align: middle;\n",
       "    }\n",
       "\n",
       "    .dataframe tbody tr th {\n",
       "        vertical-align: top;\n",
       "    }\n",
       "\n",
       "    .dataframe thead th {\n",
       "        text-align: right;\n",
       "    }\n",
       "</style>\n",
       "<table border=\"1\" class=\"dataframe\">\n",
       "  <thead>\n",
       "    <tr style=\"text-align: right;\">\n",
       "      <th></th>\n",
       "      <th>label</th>\n",
       "      <th>tweet</th>\n",
       "    </tr>\n",
       "  </thead>\n",
       "  <tbody>\n",
       "    <tr>\n",
       "      <th>0</th>\n",
       "      <td>0</td>\n",
       "      <td>@ user father dysfunctional selfish drag kid d...</td>\n",
       "    </tr>\n",
       "  </tbody>\n",
       "</table>\n",
       "</div>"
      ],
      "text/plain": [
       "   label                                              tweet\n",
       "0      0  @ user father dysfunctional selfish drag kid d..."
      ]
     },
     "execution_count": 326,
     "metadata": {},
     "output_type": "execute_result"
    }
   ],
   "source": [
    "df.head(1)"
   ]
  },
  {
   "cell_type": "code",
   "execution_count": 327,
   "id": "6783a075",
   "metadata": {},
   "outputs": [],
   "source": [
    "# Eliminating all the punctuations in the sentences. \n",
    "\n",
    "df.replace(\"[^a-zA-Z]\",\" \",regex=True,inplace=True)"
   ]
  },
  {
   "cell_type": "code",
   "execution_count": 328,
   "id": "39573e58",
   "metadata": {},
   "outputs": [
    {
     "data": {
      "text/html": [
       "<div>\n",
       "<style scoped>\n",
       "    .dataframe tbody tr th:only-of-type {\n",
       "        vertical-align: middle;\n",
       "    }\n",
       "\n",
       "    .dataframe tbody tr th {\n",
       "        vertical-align: top;\n",
       "    }\n",
       "\n",
       "    .dataframe thead th {\n",
       "        text-align: right;\n",
       "    }\n",
       "</style>\n",
       "<table border=\"1\" class=\"dataframe\">\n",
       "  <thead>\n",
       "    <tr style=\"text-align: right;\">\n",
       "      <th></th>\n",
       "      <th>label</th>\n",
       "      <th>tweet</th>\n",
       "    </tr>\n",
       "  </thead>\n",
       "  <tbody>\n",
       "    <tr>\n",
       "      <th>0</th>\n",
       "      <td>0</td>\n",
       "      <td>user father dysfunctional selfish drag kid d...</td>\n",
       "    </tr>\n",
       "  </tbody>\n",
       "</table>\n",
       "</div>"
      ],
      "text/plain": [
       "   label                                              tweet\n",
       "0      0    user father dysfunctional selfish drag kid d..."
      ]
     },
     "execution_count": 328,
     "metadata": {},
     "output_type": "execute_result"
    }
   ],
   "source": [
    "df.head(1)"
   ]
  },
  {
   "cell_type": "code",
   "execution_count": 329,
   "id": "41c9dd74",
   "metadata": {},
   "outputs": [],
   "source": [
    "#Appending all the tweets into a list\n",
    "tweets = []\n",
    "\n",
    "for x in range(0,len(df)):\n",
    "    tweets.append(\"\".join(str(x) for x in df.iloc[x,1]))"
   ]
  },
  {
   "cell_type": "code",
   "execution_count": null,
   "id": "0fd3e78f",
   "metadata": {},
   "outputs": [],
   "source": []
  },
  {
   "cell_type": "code",
   "execution_count": null,
   "id": "851899e2",
   "metadata": {},
   "outputs": [],
   "source": []
  },
  {
   "cell_type": "code",
   "execution_count": null,
   "id": "1f0152f6",
   "metadata": {},
   "outputs": [],
   "source": []
  },
  {
   "cell_type": "code",
   "execution_count": 330,
   "id": "d07235c4",
   "metadata": {},
   "outputs": [],
   "source": [
    "df_balanced = df[df['label']==1]"
   ]
  },
  {
   "cell_type": "code",
   "execution_count": 331,
   "id": "9df880d8",
   "metadata": {},
   "outputs": [],
   "source": [
    "sample_ = df[df['label']==0]"
   ]
  },
  {
   "cell_type": "code",
   "execution_count": 332,
   "id": "cdf7df7a",
   "metadata": {},
   "outputs": [],
   "source": [
    "sample_ = sample_.sample(len(df_balanced))"
   ]
  },
  {
   "cell_type": "code",
   "execution_count": 333,
   "id": "89e936c5",
   "metadata": {},
   "outputs": [],
   "source": [
    "balanced_df = pd.concat([sample_,df_balanced],axis=0)"
   ]
  },
  {
   "cell_type": "code",
   "execution_count": 334,
   "id": "2e39434e",
   "metadata": {},
   "outputs": [
    {
     "data": {
      "text/plain": [
       "0    2242\n",
       "1    2242\n",
       "Name: label, dtype: int64"
      ]
     },
     "execution_count": 334,
     "metadata": {},
     "output_type": "execute_result"
    }
   ],
   "source": [
    "#Balanced dataset\n",
    "\n",
    "balanced_df['label'].value_counts()"
   ]
  },
  {
   "cell_type": "code",
   "execution_count": 335,
   "id": "9ea1d6db",
   "metadata": {},
   "outputs": [],
   "source": [
    "balanced_df.index = [x for x in range(len(balanced_df))]\n",
    "    "
   ]
  },
  {
   "cell_type": "code",
   "execution_count": 336,
   "id": "5a025696",
   "metadata": {},
   "outputs": [],
   "source": [
    "train,test = balanced_df['tweet'],balanced_df['label']"
   ]
  },
  {
   "cell_type": "code",
   "execution_count": 337,
   "id": "b41d2f0c",
   "metadata": {},
   "outputs": [],
   "source": [
    "train = pd.DataFrame(train, columns=[\"tweet\"])\n",
    "test = pd.DataFrame(test, columns=[\"label\"])"
   ]
  },
  {
   "cell_type": "code",
   "execution_count": 338,
   "id": "ede2e777",
   "metadata": {},
   "outputs": [],
   "source": [
    "def index_corrector(df):\n",
    "    df.index = [x for x in range(len(df))]"
   ]
  },
  {
   "cell_type": "code",
   "execution_count": 339,
   "id": "66a9e2f1",
   "metadata": {},
   "outputs": [],
   "source": [
    "from sklearn.model_selection import train_test_split"
   ]
  },
  {
   "cell_type": "code",
   "execution_count": 340,
   "id": "745f8250",
   "metadata": {},
   "outputs": [],
   "source": [
    "train_X,test_X,train_y,test_y = train_test_split(train,test,test_size=0.23,random_state=0)"
   ]
  },
  {
   "cell_type": "code",
   "execution_count": 341,
   "id": "f5fe6cf5",
   "metadata": {},
   "outputs": [],
   "source": [
    "train_tweets= []\n",
    "test_tweets = []"
   ]
  },
  {
   "cell_type": "code",
   "execution_count": 342,
   "id": "02c52cc9",
   "metadata": {},
   "outputs": [],
   "source": [
    "for x in train_X['tweet']:\n",
    "    train_tweets.append(x)\n",
    "    \n",
    "for y in test_X['tweet']:\n",
    "    test_tweets.append(y)\n",
    "    "
   ]
  },
  {
   "cell_type": "code",
   "execution_count": 343,
   "id": "2c94d650",
   "metadata": {},
   "outputs": [
    {
     "name": "stdout",
     "output_type": "stream",
     "text": [
      "3452 1032\n"
     ]
    }
   ],
   "source": [
    "print(len(train_tweets),len(test_tweets))"
   ]
  },
  {
   "cell_type": "code",
   "execution_count": null,
   "id": "3c037865",
   "metadata": {},
   "outputs": [],
   "source": []
  },
  {
   "cell_type": "code",
   "execution_count": 344,
   "id": "c770c6b8",
   "metadata": {},
   "outputs": [],
   "source": [
    "from sklearn.feature_extraction.text import CountVectorizer\n",
    "cv = CountVectorizer()\n",
    "train_X = cv.fit_transform(train_tweets)"
   ]
  },
  {
   "cell_type": "code",
   "execution_count": 345,
   "id": "70b894cf",
   "metadata": {},
   "outputs": [
    {
     "data": {
      "text/plain": [
       "<3452x8244 sparse matrix of type '<class 'numpy.int64'>'\n",
       "\twith 28112 stored elements in Compressed Sparse Row format>"
      ]
     },
     "execution_count": 345,
     "metadata": {},
     "output_type": "execute_result"
    }
   ],
   "source": [
    "train_X"
   ]
  },
  {
   "cell_type": "code",
   "execution_count": 348,
   "id": "d4f5a528",
   "metadata": {},
   "outputs": [
    {
     "data": {
      "text/html": [
       "<div>\n",
       "<style scoped>\n",
       "    .dataframe tbody tr th:only-of-type {\n",
       "        vertical-align: middle;\n",
       "    }\n",
       "\n",
       "    .dataframe tbody tr th {\n",
       "        vertical-align: top;\n",
       "    }\n",
       "\n",
       "    .dataframe thead th {\n",
       "        text-align: right;\n",
       "    }\n",
       "</style>\n",
       "<table border=\"1\" class=\"dataframe\">\n",
       "  <thead>\n",
       "    <tr style=\"text-align: right;\">\n",
       "      <th></th>\n",
       "      <th>tweet</th>\n",
       "    </tr>\n",
       "  </thead>\n",
       "  <tbody>\n",
       "    <tr>\n",
       "      <th>379</th>\n",
       "      <td>lol little jerk                 squirrel   wil...</td>\n",
       "    </tr>\n",
       "    <tr>\n",
       "      <th>1939</th>\n",
       "      <td>bubble need   prague</td>\n",
       "    </tr>\n",
       "    <tr>\n",
       "      <th>4202</th>\n",
       "      <td>destroyed one minute   janeelliot</td>\n",
       "    </tr>\n",
       "    <tr>\n",
       "      <th>1856</th>\n",
       "      <td>hope future go way hope  ll</td>\n",
       "    </tr>\n",
       "    <tr>\n",
       "      <th>872</th>\n",
       "      <td>user wonderfully made film gripped   funny  ...</td>\n",
       "    </tr>\n",
       "    <tr>\n",
       "      <th>...</th>\n",
       "      <td>...</td>\n",
       "    </tr>\n",
       "    <tr>\n",
       "      <th>3029</th>\n",
       "      <td>y all   global   may lose folk understand</td>\n",
       "    </tr>\n",
       "    <tr>\n",
       "      <th>2450</th>\n",
       "      <td>destructive socialist   maddow   user</td>\n",
       "    </tr>\n",
       "    <tr>\n",
       "      <th>2361</th>\n",
       "      <td>paul beloy   still issue varying level belgian...</td>\n",
       "    </tr>\n",
       "    <tr>\n",
       "      <th>2829</th>\n",
       "      <td>user come   supermistict douchebag poke nose...</td>\n",
       "    </tr>\n",
       "    <tr>\n",
       "      <th>4421</th>\n",
       "      <td>malia shake as   fine         pas blunt</td>\n",
       "    </tr>\n",
       "  </tbody>\n",
       "</table>\n",
       "<p>1032 rows × 1 columns</p>\n",
       "</div>"
      ],
      "text/plain": [
       "                                                  tweet\n",
       "379   lol little jerk                 squirrel   wil...\n",
       "1939                               bubble need   prague\n",
       "4202                  destroyed one minute   janeelliot\n",
       "1856               hope future go way hope  ll         \n",
       "872     user wonderfully made film gripped   funny  ...\n",
       "...                                                 ...\n",
       "3029        y all   global   may lose folk understand  \n",
       "2450              destructive socialist   maddow   user\n",
       "2361  paul beloy   still issue varying level belgian...\n",
       "2829    user come   supermistict douchebag poke nose...\n",
       "4421            malia shake as   fine         pas blunt\n",
       "\n",
       "[1032 rows x 1 columns]"
      ]
     },
     "execution_count": 348,
     "metadata": {},
     "output_type": "execute_result"
    }
   ],
   "source": [
    "test_X"
   ]
  },
  {
   "cell_type": "code",
   "execution_count": 347,
   "id": "e9f45402",
   "metadata": {},
   "outputs": [
    {
     "data": {
      "text/plain": [
       "<1x8222 sparse matrix of type '<class 'numpy.int64'>'\n",
       "\twith 7 stored elements in Compressed Sparse Row format>"
      ]
     },
     "execution_count": 347,
     "metadata": {},
     "output_type": "execute_result"
    }
   ],
   "source": [
    "final_tweet"
   ]
  },
  {
   "cell_type": "code",
   "execution_count": null,
   "id": "be29c7ba",
   "metadata": {},
   "outputs": [],
   "source": []
  },
  {
   "cell_type": "code",
   "execution_count": 349,
   "id": "d6f3a31f",
   "metadata": {},
   "outputs": [],
   "source": [
    "from sklearn.ensemble import RandomForestClassifier"
   ]
  },
  {
   "cell_type": "code",
   "execution_count": 350,
   "id": "c2798a66",
   "metadata": {},
   "outputs": [],
   "source": [
    "model = RandomForestClassifier()"
   ]
  },
  {
   "cell_type": "code",
   "execution_count": 351,
   "id": "76bb8f47",
   "metadata": {},
   "outputs": [
    {
     "name": "stderr",
     "output_type": "stream",
     "text": [
      "/var/folders/r_/18s94lss4v17lxv_n1qp6k8r0000gn/T/ipykernel_3083/3489061369.py:1: DataConversionWarning: A column-vector y was passed when a 1d array was expected. Please change the shape of y to (n_samples,), for example using ravel().\n",
      "  model.fit(train_X,train_y)\n"
     ]
    },
    {
     "data": {
      "text/plain": [
       "RandomForestClassifier()"
      ]
     },
     "execution_count": 351,
     "metadata": {},
     "output_type": "execute_result"
    }
   ],
   "source": [
    "model.fit(train_X,train_y)"
   ]
  },
  {
   "cell_type": "code",
   "execution_count": 352,
   "id": "5544604e",
   "metadata": {},
   "outputs": [],
   "source": [
    "test_X = cv.transform(test_tweets)"
   ]
  },
  {
   "cell_type": "code",
   "execution_count": 353,
   "id": "f09e698f",
   "metadata": {},
   "outputs": [
    {
     "data": {
      "text/plain": [
       "<1032x8244 sparse matrix of type '<class 'numpy.int64'>'\n",
       "\twith 6706 stored elements in Compressed Sparse Row format>"
      ]
     },
     "execution_count": 353,
     "metadata": {},
     "output_type": "execute_result"
    }
   ],
   "source": [
    "test_X"
   ]
  },
  {
   "cell_type": "code",
   "execution_count": 354,
   "id": "bd1f22c0",
   "metadata": {},
   "outputs": [
    {
     "data": {
      "text/plain": [
       "array([0, 0, 0, ..., 1, 1, 0])"
      ]
     },
     "execution_count": 354,
     "metadata": {},
     "output_type": "execute_result"
    }
   ],
   "source": [
    "model.predict(test_X)"
   ]
  },
  {
   "cell_type": "code",
   "execution_count": 355,
   "id": "70b55474",
   "metadata": {},
   "outputs": [],
   "source": [
    "from sklearn.metrics import accuracy_score"
   ]
  },
  {
   "cell_type": "code",
   "execution_count": 356,
   "id": "749b4967",
   "metadata": {},
   "outputs": [],
   "source": [
    "score = accuracy_score(test_y,model.predict(test_X))"
   ]
  },
  {
   "cell_type": "code",
   "execution_count": 357,
   "id": "2589d881",
   "metadata": {},
   "outputs": [
    {
     "data": {
      "text/plain": [
       "0.8391472868217055"
      ]
     },
     "execution_count": 357,
     "metadata": {},
     "output_type": "execute_result"
    }
   ],
   "source": [
    "score"
   ]
  },
  {
   "cell_type": "code",
   "execution_count": 358,
   "id": "4c1a2d4a",
   "metadata": {},
   "outputs": [],
   "source": [
    "test_data = pd.read_csv(\"test.csv\",usecols=['tweet'])"
   ]
  },
  {
   "cell_type": "code",
   "execution_count": 359,
   "id": "30154e50",
   "metadata": {},
   "outputs": [
    {
     "data": {
      "text/html": [
       "<div>\n",
       "<style scoped>\n",
       "    .dataframe tbody tr th:only-of-type {\n",
       "        vertical-align: middle;\n",
       "    }\n",
       "\n",
       "    .dataframe tbody tr th {\n",
       "        vertical-align: top;\n",
       "    }\n",
       "\n",
       "    .dataframe thead th {\n",
       "        text-align: right;\n",
       "    }\n",
       "</style>\n",
       "<table border=\"1\" class=\"dataframe\">\n",
       "  <thead>\n",
       "    <tr style=\"text-align: right;\">\n",
       "      <th></th>\n",
       "      <th>tweet</th>\n",
       "    </tr>\n",
       "  </thead>\n",
       "  <tbody>\n",
       "    <tr>\n",
       "      <th>0</th>\n",
       "      <td>#studiolife #aislife #requires #passion #dedic...</td>\n",
       "    </tr>\n",
       "    <tr>\n",
       "      <th>1</th>\n",
       "      <td>@user #white #supremacists want everyone to s...</td>\n",
       "    </tr>\n",
       "    <tr>\n",
       "      <th>2</th>\n",
       "      <td>safe ways to heal your #acne!!    #altwaystohe...</td>\n",
       "    </tr>\n",
       "    <tr>\n",
       "      <th>3</th>\n",
       "      <td>is the hp and the cursed child book up for res...</td>\n",
       "    </tr>\n",
       "    <tr>\n",
       "      <th>4</th>\n",
       "      <td>3rd #bihday to my amazing, hilarious #nephew...</td>\n",
       "    </tr>\n",
       "    <tr>\n",
       "      <th>...</th>\n",
       "      <td>...</td>\n",
       "    </tr>\n",
       "    <tr>\n",
       "      <th>17192</th>\n",
       "      <td>thought factory: left-right polarisation! #tru...</td>\n",
       "    </tr>\n",
       "    <tr>\n",
       "      <th>17193</th>\n",
       "      <td>feeling like a mermaid ð #hairflip #neverre...</td>\n",
       "    </tr>\n",
       "    <tr>\n",
       "      <th>17194</th>\n",
       "      <td>#hillary #campaigned today in #ohio((omg)) &amp;am...</td>\n",
       "    </tr>\n",
       "    <tr>\n",
       "      <th>17195</th>\n",
       "      <td>happy, at work conference: right mindset leads...</td>\n",
       "    </tr>\n",
       "    <tr>\n",
       "      <th>17196</th>\n",
       "      <td>my   song \"so glad\" free download!  #shoegaze ...</td>\n",
       "    </tr>\n",
       "  </tbody>\n",
       "</table>\n",
       "<p>17197 rows × 1 columns</p>\n",
       "</div>"
      ],
      "text/plain": [
       "                                                   tweet\n",
       "0      #studiolife #aislife #requires #passion #dedic...\n",
       "1       @user #white #supremacists want everyone to s...\n",
       "2      safe ways to heal your #acne!!    #altwaystohe...\n",
       "3      is the hp and the cursed child book up for res...\n",
       "4        3rd #bihday to my amazing, hilarious #nephew...\n",
       "...                                                  ...\n",
       "17192  thought factory: left-right polarisation! #tru...\n",
       "17193  feeling like a mermaid ð #hairflip #neverre...\n",
       "17194  #hillary #campaigned today in #ohio((omg)) &am...\n",
       "17195  happy, at work conference: right mindset leads...\n",
       "17196  my   song \"so glad\" free download!  #shoegaze ...\n",
       "\n",
       "[17197 rows x 1 columns]"
      ]
     },
     "execution_count": 359,
     "metadata": {},
     "output_type": "execute_result"
    }
   ],
   "source": [
    "test_data"
   ]
  },
  {
   "cell_type": "code",
   "execution_count": 360,
   "id": "2f9d8a08",
   "metadata": {},
   "outputs": [],
   "source": [
    "testing_dataset_tweets = [ ]\n",
    "\n",
    "def text_preprocessing(df,col_name,list_name):\n",
    "    \n",
    "    df[col_name].str.lower()\n",
    "    \n",
    "    for x in range(0,len(df)):\n",
    "        list_name.append(\"\".join(str(a) for a in df.iloc[x,0]))\n",
    "\n",
    "        \n",
    "    for y in range(0,len(df)):\n",
    "        collection = nltk.word_tokenize(list_name[y])\n",
    "        collections = [lemmatizer.lemmatize(sent) for sent in collection if sent not in set(stopwords.words(\"english\"))]\n",
    "        list_name[y] = \" \".join(collections)\n",
    "\n",
    "    for z in range(0,len(df)):\n",
    "        df.iloc[z,0] = list_name[z]\n",
    "    \n",
    "    df.replace(\"[^a-zA-Z]\",\" \",regex=True,inplace=True)\n",
    "    \n",
    "    list_name.clear()\n",
    "    \n",
    "    for f in range(0,len(df)):\n",
    "        list_name.append(\"\".join(str(t) for t in df.iloc[f,0]))"
   ]
  },
  {
   "cell_type": "code",
   "execution_count": 361,
   "id": "662f1c8b",
   "metadata": {},
   "outputs": [],
   "source": [
    "text_preprocessing(test_data,'tweet',testing_dataset_tweets)"
   ]
  },
  {
   "cell_type": "code",
   "execution_count": 362,
   "id": "ea63d215",
   "metadata": {},
   "outputs": [],
   "source": [
    "final_test_data = cv.transform(testing_dataset_tweets)"
   ]
  },
  {
   "cell_type": "code",
   "execution_count": 363,
   "id": "52888d1f",
   "metadata": {},
   "outputs": [],
   "source": [
    "labels = pd.DataFrame(model.predict(final_test_data),columns=['label'])"
   ]
  },
  {
   "cell_type": "code",
   "execution_count": 364,
   "id": "952de023",
   "metadata": {},
   "outputs": [
    {
     "data": {
      "text/html": [
       "<div>\n",
       "<style scoped>\n",
       "    .dataframe tbody tr th:only-of-type {\n",
       "        vertical-align: middle;\n",
       "    }\n",
       "\n",
       "    .dataframe tbody tr th {\n",
       "        vertical-align: top;\n",
       "    }\n",
       "\n",
       "    .dataframe thead th {\n",
       "        text-align: right;\n",
       "    }\n",
       "</style>\n",
       "<table border=\"1\" class=\"dataframe\">\n",
       "  <thead>\n",
       "    <tr style=\"text-align: right;\">\n",
       "      <th></th>\n",
       "      <th>label</th>\n",
       "    </tr>\n",
       "  </thead>\n",
       "  <tbody>\n",
       "    <tr>\n",
       "      <th>0</th>\n",
       "      <td>0</td>\n",
       "    </tr>\n",
       "    <tr>\n",
       "      <th>1</th>\n",
       "      <td>1</td>\n",
       "    </tr>\n",
       "    <tr>\n",
       "      <th>2</th>\n",
       "      <td>0</td>\n",
       "    </tr>\n",
       "    <tr>\n",
       "      <th>3</th>\n",
       "      <td>0</td>\n",
       "    </tr>\n",
       "    <tr>\n",
       "      <th>4</th>\n",
       "      <td>0</td>\n",
       "    </tr>\n",
       "    <tr>\n",
       "      <th>...</th>\n",
       "      <td>...</td>\n",
       "    </tr>\n",
       "    <tr>\n",
       "      <th>17192</th>\n",
       "      <td>1</td>\n",
       "    </tr>\n",
       "    <tr>\n",
       "      <th>17193</th>\n",
       "      <td>0</td>\n",
       "    </tr>\n",
       "    <tr>\n",
       "      <th>17194</th>\n",
       "      <td>1</td>\n",
       "    </tr>\n",
       "    <tr>\n",
       "      <th>17195</th>\n",
       "      <td>0</td>\n",
       "    </tr>\n",
       "    <tr>\n",
       "      <th>17196</th>\n",
       "      <td>0</td>\n",
       "    </tr>\n",
       "  </tbody>\n",
       "</table>\n",
       "<p>17197 rows × 1 columns</p>\n",
       "</div>"
      ],
      "text/plain": [
       "       label\n",
       "0          0\n",
       "1          1\n",
       "2          0\n",
       "3          0\n",
       "4          0\n",
       "...      ...\n",
       "17192      1\n",
       "17193      0\n",
       "17194      1\n",
       "17195      0\n",
       "17196      0\n",
       "\n",
       "[17197 rows x 1 columns]"
      ]
     },
     "execution_count": 364,
     "metadata": {},
     "output_type": "execute_result"
    }
   ],
   "source": [
    "labels"
   ]
  },
  {
   "cell_type": "code",
   "execution_count": 365,
   "id": "4f218cd6",
   "metadata": {},
   "outputs": [
    {
     "data": {
      "text/html": [
       "<div>\n",
       "<style scoped>\n",
       "    .dataframe tbody tr th:only-of-type {\n",
       "        vertical-align: middle;\n",
       "    }\n",
       "\n",
       "    .dataframe tbody tr th {\n",
       "        vertical-align: top;\n",
       "    }\n",
       "\n",
       "    .dataframe thead th {\n",
       "        text-align: right;\n",
       "    }\n",
       "</style>\n",
       "<table border=\"1\" class=\"dataframe\">\n",
       "  <thead>\n",
       "    <tr style=\"text-align: right;\">\n",
       "      <th></th>\n",
       "      <th>tweet</th>\n",
       "    </tr>\n",
       "  </thead>\n",
       "  <tbody>\n",
       "    <tr>\n",
       "      <th>0</th>\n",
       "      <td>studiolife   aislife   requires   passion   ...</td>\n",
       "    </tr>\n",
       "    <tr>\n",
       "      <th>1</th>\n",
       "      <td>user   white   supremacist want everyone see...</td>\n",
       "    </tr>\n",
       "    <tr>\n",
       "      <th>2</th>\n",
       "      <td>safe way heal   acne       altwaystoheal   hea...</td>\n",
       "    </tr>\n",
       "    <tr>\n",
       "      <th>3</th>\n",
       "      <td>hp cursed child book reservation already   yes...</td>\n",
       "    </tr>\n",
       "    <tr>\n",
       "      <th>4</th>\n",
       "      <td>rd   bihday amazing   hilarious   nephew eli ...</td>\n",
       "    </tr>\n",
       "    <tr>\n",
       "      <th>...</th>\n",
       "      <td>...</td>\n",
       "    </tr>\n",
       "    <tr>\n",
       "      <th>17192</th>\n",
       "      <td>thought factory   left right polarisation     ...</td>\n",
       "    </tr>\n",
       "    <tr>\n",
       "      <th>17193</th>\n",
       "      <td>feeling like mermaid        hairflip   neverre...</td>\n",
       "    </tr>\n",
       "    <tr>\n",
       "      <th>17194</th>\n",
       "      <td>hillary   campaigned today   ohio     omg   ...</td>\n",
       "    </tr>\n",
       "    <tr>\n",
       "      <th>17195</th>\n",
       "      <td>happy   work conference   right mindset lead c...</td>\n",
       "    </tr>\n",
       "    <tr>\n",
       "      <th>17196</th>\n",
       "      <td>song    glad    free download     shoegaze   n...</td>\n",
       "    </tr>\n",
       "  </tbody>\n",
       "</table>\n",
       "<p>17197 rows × 1 columns</p>\n",
       "</div>"
      ],
      "text/plain": [
       "                                                   tweet\n",
       "0        studiolife   aislife   requires   passion   ...\n",
       "1        user   white   supremacist want everyone see...\n",
       "2      safe way heal   acne       altwaystoheal   hea...\n",
       "3      hp cursed child book reservation already   yes...\n",
       "4       rd   bihday amazing   hilarious   nephew eli ...\n",
       "...                                                  ...\n",
       "17192  thought factory   left right polarisation     ...\n",
       "17193  feeling like mermaid        hairflip   neverre...\n",
       "17194    hillary   campaigned today   ohio     omg   ...\n",
       "17195  happy   work conference   right mindset lead c...\n",
       "17196  song    glad    free download     shoegaze   n...\n",
       "\n",
       "[17197 rows x 1 columns]"
      ]
     },
     "execution_count": 365,
     "metadata": {},
     "output_type": "execute_result"
    }
   ],
   "source": [
    "test_data"
   ]
  },
  {
   "cell_type": "code",
   "execution_count": 366,
   "id": "18c178e3",
   "metadata": {},
   "outputs": [],
   "source": [
    "final_test_data = pd.concat([test_data,labels],axis=1)"
   ]
  },
  {
   "cell_type": "code",
   "execution_count": 367,
   "id": "168fafc9",
   "metadata": {},
   "outputs": [
    {
     "data": {
      "text/html": [
       "<div>\n",
       "<style scoped>\n",
       "    .dataframe tbody tr th:only-of-type {\n",
       "        vertical-align: middle;\n",
       "    }\n",
       "\n",
       "    .dataframe tbody tr th {\n",
       "        vertical-align: top;\n",
       "    }\n",
       "\n",
       "    .dataframe thead th {\n",
       "        text-align: right;\n",
       "    }\n",
       "</style>\n",
       "<table border=\"1\" class=\"dataframe\">\n",
       "  <thead>\n",
       "    <tr style=\"text-align: right;\">\n",
       "      <th></th>\n",
       "      <th>tweet</th>\n",
       "      <th>label</th>\n",
       "    </tr>\n",
       "  </thead>\n",
       "  <tbody>\n",
       "    <tr>\n",
       "      <th>0</th>\n",
       "      <td>studiolife   aislife   requires   passion   ...</td>\n",
       "      <td>0</td>\n",
       "    </tr>\n",
       "    <tr>\n",
       "      <th>1</th>\n",
       "      <td>user   white   supremacist want everyone see...</td>\n",
       "      <td>1</td>\n",
       "    </tr>\n",
       "    <tr>\n",
       "      <th>2</th>\n",
       "      <td>safe way heal   acne       altwaystoheal   hea...</td>\n",
       "      <td>0</td>\n",
       "    </tr>\n",
       "    <tr>\n",
       "      <th>3</th>\n",
       "      <td>hp cursed child book reservation already   yes...</td>\n",
       "      <td>0</td>\n",
       "    </tr>\n",
       "    <tr>\n",
       "      <th>4</th>\n",
       "      <td>rd   bihday amazing   hilarious   nephew eli ...</td>\n",
       "      <td>0</td>\n",
       "    </tr>\n",
       "    <tr>\n",
       "      <th>...</th>\n",
       "      <td>...</td>\n",
       "      <td>...</td>\n",
       "    </tr>\n",
       "    <tr>\n",
       "      <th>17192</th>\n",
       "      <td>thought factory   left right polarisation     ...</td>\n",
       "      <td>1</td>\n",
       "    </tr>\n",
       "    <tr>\n",
       "      <th>17193</th>\n",
       "      <td>feeling like mermaid        hairflip   neverre...</td>\n",
       "      <td>0</td>\n",
       "    </tr>\n",
       "    <tr>\n",
       "      <th>17194</th>\n",
       "      <td>hillary   campaigned today   ohio     omg   ...</td>\n",
       "      <td>1</td>\n",
       "    </tr>\n",
       "    <tr>\n",
       "      <th>17195</th>\n",
       "      <td>happy   work conference   right mindset lead c...</td>\n",
       "      <td>0</td>\n",
       "    </tr>\n",
       "    <tr>\n",
       "      <th>17196</th>\n",
       "      <td>song    glad    free download     shoegaze   n...</td>\n",
       "      <td>0</td>\n",
       "    </tr>\n",
       "  </tbody>\n",
       "</table>\n",
       "<p>17197 rows × 2 columns</p>\n",
       "</div>"
      ],
      "text/plain": [
       "                                                   tweet  label\n",
       "0        studiolife   aislife   requires   passion   ...      0\n",
       "1        user   white   supremacist want everyone see...      1\n",
       "2      safe way heal   acne       altwaystoheal   hea...      0\n",
       "3      hp cursed child book reservation already   yes...      0\n",
       "4       rd   bihday amazing   hilarious   nephew eli ...      0\n",
       "...                                                  ...    ...\n",
       "17192  thought factory   left right polarisation     ...      1\n",
       "17193  feeling like mermaid        hairflip   neverre...      0\n",
       "17194    hillary   campaigned today   ohio     omg   ...      1\n",
       "17195  happy   work conference   right mindset lead c...      0\n",
       "17196  song    glad    free download     shoegaze   n...      0\n",
       "\n",
       "[17197 rows x 2 columns]"
      ]
     },
     "execution_count": 367,
     "metadata": {},
     "output_type": "execute_result"
    }
   ],
   "source": [
    "final_test_data"
   ]
  },
  {
   "cell_type": "code",
   "execution_count": 374,
   "id": "bd9bf10c",
   "metadata": {},
   "outputs": [],
   "source": [
    "import pickle\n",
    "import flask"
   ]
  },
  {
   "cell_type": "code",
   "execution_count": 375,
   "id": "b5283919",
   "metadata": {},
   "outputs": [],
   "source": [
    "file = open(\"model.pkl\",'wb')\n",
    "pickle.dump(model,file)"
   ]
  },
  {
   "cell_type": "code",
   "execution_count": 410,
   "id": "5cf20757",
   "metadata": {},
   "outputs": [],
   "source": [
    "vectorizer = open(\"vectorizer.pkl\",'wb')\n",
    "pickle.dump(cv,vectorizer)"
   ]
  },
  {
   "cell_type": "code",
   "execution_count": 392,
   "id": "17aba50e",
   "metadata": {},
   "outputs": [],
   "source": [
    "var = \"@user I think trump won because of democrats $$ is the only thing that rules USA\""
   ]
  },
  {
   "cell_type": "code",
   "execution_count": 404,
   "id": "2ce8daec",
   "metadata": {},
   "outputs": [],
   "source": [
    "var = var.lower()\n",
    "\n",
    "word_collections = nltk.word_tokenize(var)\n",
    "\n",
    "lemmatizer = WordNetLemmatizer()\n",
    "word_collections = [lemmatizer.lemmatize(word) for word in word_collections if word not in set(stopwords.words(\"english\"))]\n",
    "\n",
    "var = \" \".join(word_collections)\n",
    "\n",
    "punctuations = set(string.punctuation)\n",
    "\n",
    "cleaner_tweet = [\"\".join(z for z in var if z not in punctuations)]"
   ]
  },
  {
   "cell_type": "code",
   "execution_count": 405,
   "id": "2df60dc7",
   "metadata": {},
   "outputs": [
    {
     "data": {
      "text/plain": [
       "[' user think trump democrat   thing rule usa']"
      ]
     },
     "execution_count": 405,
     "metadata": {},
     "output_type": "execute_result"
    }
   ],
   "source": [
    "cleaner_tweet"
   ]
  },
  {
   "cell_type": "code",
   "execution_count": 408,
   "id": "b779a3d5",
   "metadata": {},
   "outputs": [
    {
     "data": {
      "text/plain": [
       "array([1])"
      ]
     },
     "execution_count": 408,
     "metadata": {},
     "output_type": "execute_result"
    }
   ],
   "source": [
    "model.predict(cv.transform(cleaner_tweet))"
   ]
  },
  {
   "cell_type": "code",
   "execution_count": 411,
   "id": "e50ac095",
   "metadata": {},
   "outputs": [
    {
     "name": "stdout",
     "output_type": "stream",
     "text": [
      "Note: you may need to restart the kernel to use updated packages.\n"
     ]
    }
   ],
   "source": [
    "pip freeze > requirements.txt"
   ]
  },
  {
   "cell_type": "code",
   "execution_count": null,
   "id": "dac1e845",
   "metadata": {},
   "outputs": [],
   "source": []
  }
 ],
 "metadata": {
  "kernelspec": {
   "display_name": "Python 3",
   "language": "python",
   "name": "python3"
  },
  "language_info": {
   "codemirror_mode": {
    "name": "ipython",
    "version": 3
   },
   "file_extension": ".py",
   "mimetype": "text/x-python",
   "name": "python",
   "nbconvert_exporter": "python",
   "pygments_lexer": "ipython3",
   "version": "3.8.8"
  }
 },
 "nbformat": 4,
 "nbformat_minor": 5
}
